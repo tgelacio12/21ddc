{
 "cells": [
  {
   "cell_type": "code",
   "execution_count": null,
   "metadata": {},
   "outputs": [],
   "source": [
    "\"\"\"\n",
    "Day 19 Challenge\n",
    "\n",
    "Use air traffic data to help Dot by finding out which US city has the best connection with Vancouver.\n",
    "    (1) What is the origin city (using variable ORIGIN_CITY_NAME) with the highest total number of passengers who travelled to Vancouver?\n",
    "    (2) According to our data, how many passengers travelled from that origin city to Vancouver?\n",
    "    (3) Use a histogram to plot the probability distribution of distances for all routes in June 2021.\n",
    "\n",
    "Revision History\n",
    "    Tonnicca Gelacio, 2022-04-29 : Created\n",
    "    Tonnicca Gelacio, 2022-04-29 : Code Updated\n",
    "\"\"\""
   ]
  },
  {
   "cell_type": "code",
   "execution_count": 3,
   "metadata": {},
   "outputs": [],
   "source": [
    "import pandas as pd\n",
    "import matplotlib.pyplot as plt\n",
    "\n",
    "# load dataframe\n",
    "df = pd.read_csv('db/air_traffic_data.csv')"
   ]
  },
  {
   "cell_type": "code",
   "execution_count": 4,
   "metadata": {},
   "outputs": [
    {
     "name": "stdout",
     "output_type": "stream",
     "text": [
      "ORIGIN_CITY_NAME    Seattle, WA\n",
      "Total Passengers        17109.0\n",
      "Name: 37, dtype: object\n"
     ]
    }
   ],
   "source": [
    "##### Question 1 and 2 #####\n",
    "\n",
    "# filter dataframe\n",
    "destinationFilter = (df['DEST_CITY_NAME'] == 'Vancouver, Canada')\n",
    "filteredDF = df[destinationFilter]\n",
    "\n",
    "# group by origin city then get total number of passengers\n",
    "grouped = filteredDF.groupby([\"ORIGIN_CITY_NAME\"])['PASSENGERS'].sum().reset_index(name='Total Passengers')\n",
    "grouped.sort_values('Total Passengers', ascending=False) # test - display\n",
    "\n",
    "# print result \n",
    "print(grouped.iloc[grouped['Total Passengers'].idxmax()])"
   ]
  },
  {
   "cell_type": "code",
   "execution_count": 5,
   "metadata": {},
   "outputs": [
    {
     "data": {
      "image/png": "[encoded data removed]",
      "text/plain": [
       "<Figure size 432x288 with 1 Axes>"
      ]
     },
     "metadata": {
      "needs_background": "light"
     },
     "output_type": "display_data"
    }
   ],
   "source": [
    "##### Question 3 #####\n",
    "\n",
    "# filter by month\n",
    "monthFilter = (df['MONTH'] == 6)\n",
    "filteredDF = df[monthFilter]\n",
    "\n",
    "# plot data\n",
    "plt.figure()\n",
    "plt.hist(filteredDF['DISTANCE'], bins = 50)\n",
    "plt.show()"
   ]
  },
  {
   "cell_type": "code",
   "execution_count": null,
   "metadata": {},
   "outputs": [],
   "source": [
    "\"\"\"\n",
    "OUTPUT\n",
    "(1) What is the origin city with the highest total number of passengers who travelled to Vancouver? Seattle, WA\n",
    "(2) According to our data, how many passengers travelled from that origin city to Vancouver? 17109\n",
    "\"\"\""
   ]
  }
 ],
 "metadata": {
  "interpreter": {
   "hash": "358dc852899df7f9d85956c30b11481afcceeef977d4870e13115e437e84e91a"
  },
  "kernelspec": {
   "display_name": "Python 3.9.7 ('base')",
   "language": "python",
   "name": "python3"
  },
  "language_info": {
   "codemirror_mode": {
    "name": "ipython",
    "version": 3
   },
   "file_extension": ".py",
   "mimetype": "text/x-python",
   "name": "python",
   "nbconvert_exporter": "python",
   "pygments_lexer": "ipython3",
   "version": "3.9.7"
  },
  "orig_nbformat": 4
 },
 "nbformat": 4,
 "nbformat_minor": 2
}
