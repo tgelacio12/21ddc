{
 "cells": [
  {
   "cell_type": "code",
   "execution_count": null,
   "metadata": {},
   "outputs": [],
   "source": [
    "\"\"\"\n",
    "Day 9 Challenge\n",
    "\n",
    "Answer the following questions using the data:\n",
    "    (1) How many Italian wines have a lower percentage of alcohol than 13%\n",
    "    (2) How many wines are there in class 3?\n",
    "\n",
    "Stretch Questions\n",
    "    (1) How many wines have a level of magnesium between 90 and 100?\n",
    "    (2) How many wines have a level of magnesium higher than 90, and a percentage of alcohol lower than 13.5%?\n",
    "\n",
    "Revision History\n",
    "    Tonnicca Gelacio, 2022-04-19 : Created\n",
    "    Tonnicca Gelacio, 2022-04-19 : Code Updated\n",
    "    Tonnicca Gelacio, 2022-05-03 : Edited comments and added output\n",
    "\"\"\"\n"
   ]
  },
  {
   "cell_type": "code",
   "execution_count": 2,
   "metadata": {},
   "outputs": [],
   "source": [
    "import pandas as pd\n",
    "\n",
    "# set-up dataframe\n",
    "df = pd.read_csv('db/wine.csv')"
   ]
  },
  {
   "cell_type": "code",
   "execution_count": 3,
   "metadata": {},
   "outputs": [
    {
     "name": "stdout",
     "output_type": "stream",
     "text": [
      "How many Italian wines have a lower percentage of alcohol than 13%? 86\n"
     ]
    }
   ],
   "source": [
    "##### Question 1 #####\n",
    "\n",
    "# create filter\n",
    "alcoholFilter = df['Alcohol'] < 13\n",
    "\n",
    "# feed the filter to the original DataFrame and store the result in a new variable\n",
    "alcoholFilteredDF = df[alcoholFilter]\n",
    "\n",
    "# display result\n",
    "print('How many Italian wines have a lower percentage of alcohol than 13%?', len(alcoholFilteredDF))"
   ]
  },
  {
   "cell_type": "code",
   "execution_count": 4,
   "metadata": {},
   "outputs": [
    {
     "name": "stdout",
     "output_type": "stream",
     "text": [
      "How many wines are there in class 3?  48\n"
     ]
    }
   ],
   "source": [
    "##### Question 2 #####\n",
    "\n",
    "# create filter\n",
    "classFilter = df['Class'] == 3\n",
    "\n",
    "# feed the filter to the original DataFrame and store the result in a new variable\n",
    "classFilteredDF = df[classFilter]\n",
    "\n",
    "# display result\n",
    "print('How many wines are there in class 3? ', len(classFilteredDF))"
   ]
  },
  {
   "cell_type": "code",
   "execution_count": 5,
   "metadata": {},
   "outputs": [
    {
     "name": "stdout",
     "output_type": "stream",
     "text": [
      "How many wines have a level of magnesium between 90 and 100? 41\n"
     ]
    }
   ],
   "source": [
    "##### Stretch Question 1 #####\n",
    "\n",
    "# create filter\n",
    "magnesiumFilter = (df['Magnesium'] < 100) & (df['Magnesium'] > 90)\n",
    "\n",
    "# feed the filter to the original DataFrame and store the result in a new variable\n",
    "magnesiumFilteredDF = df[magnesiumFilter]\n",
    "\n",
    "# display result\n",
    "print('How many wines have a level of magnesium between 90 and 100?', len(magnesiumFilteredDF))\n"
   ]
  },
  {
   "cell_type": "code",
   "execution_count": 6,
   "metadata": {},
   "outputs": [
    {
     "name": "stdout",
     "output_type": "stream",
     "text": [
      "How many wines have a level of magnesium higher than 90, and a percentage of alcohol lower than 13.5%? 47\n"
     ]
    }
   ],
   "source": [
    "##### Stretch Question 2 #####\n",
    "\n",
    "# create filter\n",
    "magnesiumAlcoholFilter = (df['Magnesium'] < 90) & (df['Alcohol'] < 13.5)\n",
    "# magnesiumAlcoholFilter = (df[(df.Magnesium > 90) & (df.Alcohol < 13.5)]))\n",
    "\n",
    "# feed the filter to the original DataFrame and store the result in a new variable\n",
    "magnesiumAlcoholFilteredDF = df[magnesiumAlcoholFilter]\n",
    "\n",
    "# display result\n",
    "print('How many wines have a level of magnesium higher than 90, and a percentage of alcohol lower than 13.5%?', len(magnesiumAlcoholFilteredDF))\n"
   ]
  },
  {
   "cell_type": "code",
   "execution_count": null,
   "metadata": {},
   "outputs": [],
   "source": [
    "\"\"\"\n",
    "OUTPUT\n",
    "How many Italian wines have a lower percentage of alcohol than 13%? 86\n",
    "How many wines are there in class 3?  48\n",
    "How many wines have a level of magnesium between 90 and 100? 41\n",
    "How many wines have a level of magnesium higher than 90, and a percentage of alcohol lower than 13.5%? 47\n",
    "\"\"\""
   ]
  }
 ],
 "metadata": {
  "interpreter": {
   "hash": "358dc852899df7f9d85956c30b11481afcceeef977d4870e13115e437e84e91a"
  },
  "kernelspec": {
   "display_name": "Python 3.9.7 ('base')",
   "language": "python",
   "name": "python3"
  },
  "language_info": {
   "codemirror_mode": {
    "name": "ipython",
    "version": 3
   },
   "file_extension": ".py",
   "mimetype": "text/x-python",
   "name": "python",
   "nbconvert_exporter": "python",
   "pygments_lexer": "ipython3",
   "version": "3.9.7"
  },
  "orig_nbformat": 4
 },
 "nbformat": 4,
 "nbformat_minor": 2
}
