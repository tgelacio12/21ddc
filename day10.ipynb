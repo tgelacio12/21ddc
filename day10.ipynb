{
 "cells": [
  {
   "cell_type": "code",
   "execution_count": null,
   "metadata": {},
   "outputs": [],
   "source": [
    "\"\"\"\n",
    "Day 10 Challenge\n",
    "\n",
    "Which neighborhood has the highest average property price and the highest size_in_sqft?\n",
    "\n",
    "Revision History\n",
    "    Tonnicca Gelacio, 2022-04-20 : Created\n",
    "    Tonnicca Gelacio, 2022-04-20 : Code Updated\n",
    "    Tonnicca Gelacio, 2022-05-03 : Edited comments and added output\n",
    "\"\"\""
   ]
  },
  {
   "cell_type": "code",
   "execution_count": 1,
   "metadata": {},
   "outputs": [],
   "source": [
    "import pandas as pd\n",
    "\n",
    "# load dataframe\n",
    "df = pd.read_csv('db/dubai_properties_data.csv')"
   ]
  },
  {
   "cell_type": "code",
   "execution_count": 2,
   "metadata": {},
   "outputs": [
    {
     "data": {
      "text/html": [
       "<div>\n",
       "<style scoped>\n",
       "    .dataframe tbody tr th:only-of-type {\n",
       "        vertical-align: middle;\n",
       "    }\n",
       "\n",
       "    .dataframe tbody tr th {\n",
       "        vertical-align: top;\n",
       "    }\n",
       "\n",
       "    .dataframe thead th {\n",
       "        text-align: right;\n",
       "    }\n",
       "</style>\n",
       "<table border=\"1\" class=\"dataframe\">\n",
       "  <thead>\n",
       "    <tr style=\"text-align: right;\">\n",
       "      <th></th>\n",
       "      <th>price</th>\n",
       "    </tr>\n",
       "    <tr>\n",
       "      <th>neighborhood</th>\n",
       "      <th></th>\n",
       "    </tr>\n",
       "  </thead>\n",
       "  <tbody>\n",
       "    <tr>\n",
       "      <th>Palm Jumeirah</th>\n",
       "      <td>4.379435e+06</td>\n",
       "    </tr>\n",
       "    <tr>\n",
       "      <th>Jumeirah</th>\n",
       "      <td>4.212667e+06</td>\n",
       "    </tr>\n",
       "    <tr>\n",
       "      <th>Culture Village</th>\n",
       "      <td>3.677445e+06</td>\n",
       "    </tr>\n",
       "  </tbody>\n",
       "</table>\n",
       "</div>"
      ],
      "text/plain": [
       "                        price\n",
       "neighborhood                 \n",
       "Palm Jumeirah    4.379435e+06\n",
       "Jumeirah         4.212667e+06\n",
       "Culture Village  3.677445e+06"
      ]
     },
     "execution_count": 2,
     "metadata": {},
     "output_type": "execute_result"
    }
   ],
   "source": [
    "# Q1 - Highest average property price\n",
    "df.groupby(['neighborhood'])[['price']].mean().sort_values(['price'], ascending=False).head(3)"
   ]
  },
  {
   "cell_type": "code",
   "execution_count": 3,
   "metadata": {},
   "outputs": [
    {
     "data": {
      "text/html": [
       "<div>\n",
       "<style scoped>\n",
       "    .dataframe tbody tr th:only-of-type {\n",
       "        vertical-align: middle;\n",
       "    }\n",
       "\n",
       "    .dataframe tbody tr th {\n",
       "        vertical-align: top;\n",
       "    }\n",
       "\n",
       "    .dataframe thead th {\n",
       "        text-align: right;\n",
       "    }\n",
       "</style>\n",
       "<table border=\"1\" class=\"dataframe\">\n",
       "  <thead>\n",
       "    <tr style=\"text-align: right;\">\n",
       "      <th></th>\n",
       "      <th>size_in_sqft</th>\n",
       "    </tr>\n",
       "    <tr>\n",
       "      <th>neighborhood</th>\n",
       "      <th></th>\n",
       "    </tr>\n",
       "  </thead>\n",
       "  <tbody>\n",
       "    <tr>\n",
       "      <th>Dubai Festival City</th>\n",
       "      <td>2778.400</td>\n",
       "    </tr>\n",
       "    <tr>\n",
       "      <th>World Trade Center</th>\n",
       "      <td>2610.125</td>\n",
       "    </tr>\n",
       "    <tr>\n",
       "      <th>Al Barari</th>\n",
       "      <td>2594.900</td>\n",
       "    </tr>\n",
       "  </tbody>\n",
       "</table>\n",
       "</div>"
      ],
      "text/plain": [
       "                     size_in_sqft\n",
       "neighborhood                     \n",
       "Dubai Festival City      2778.400\n",
       "World Trade Center       2610.125\n",
       "Al Barari                2594.900"
      ]
     },
     "execution_count": 3,
     "metadata": {},
     "output_type": "execute_result"
    }
   ],
   "source": [
    "# Q2 - Highest size in sq ft\n",
    "df.groupby(['neighborhood'])[['size_in_sqft']].mean().sort_values(['size_in_sqft'], ascending=False).head(3)"
   ]
  },
  {
   "cell_type": "code",
   "execution_count": null,
   "metadata": {},
   "outputs": [],
   "source": [
    "\"\"\"\n",
    "OUTPUT\n",
    "Highest average property price: Palm Jumeirah\t(4.379435e+06)\n",
    "Highest size in sq ft: Dubai Festival City (2778.400000)\n",
    "\"\"\""
   ]
  }
 ],
 "metadata": {
  "interpreter": {
   "hash": "358dc852899df7f9d85956c30b11481afcceeef977d4870e13115e437e84e91a"
  },
  "kernelspec": {
   "display_name": "Python 3.9.7 ('base')",
   "language": "python",
   "name": "python3"
  },
  "language_info": {
   "codemirror_mode": {
    "name": "ipython",
    "version": 3
   },
   "file_extension": ".py",
   "mimetype": "text/x-python",
   "name": "python",
   "nbconvert_exporter": "python",
   "pygments_lexer": "ipython3",
   "version": "3.9.7"
  },
  "orig_nbformat": 4
 },
 "nbformat": 4,
 "nbformat_minor": 2
}
