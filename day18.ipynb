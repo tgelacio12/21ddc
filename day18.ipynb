{
 "cells": [
  {
   "cell_type": "code",
   "execution_count": null,
   "metadata": {},
   "outputs": [],
   "source": [
    "\"\"\"\n",
    "Day 18 Challenge\n",
    "\n",
    "Play around with the scatterplot and test out different correlations between the \n",
    "numerical variables in the dataset. Then, help Dot by answering these questions:\n",
    "    (1) What kind of correlation is there between Receipts (bn $) and % of GNP?\n",
    "    (2) What is the correlation coefficient between Receipts (bn $) and % of GNP?\n",
    "    (3) Which columns have the highest correlation?\n",
    "\n",
    "Is the correlation visible in a scatterplot as well?\n",
    "\n",
    "Revision History\n",
    "    Tonnicca Gelacio, 2022-04-28 : Created\n",
    "    Tonnicca Gelacio, 2022-04-28 : Code Updated\n",
    "\"\"\""
   ]
  },
  {
   "cell_type": "code",
   "execution_count": 1,
   "metadata": {},
   "outputs": [],
   "source": [
    "import pandas as pd\n",
    "import matplotlib.pyplot as plt\n",
    "\n",
    "df = pd.read_csv('db/thai_tourism.csv')"
   ]
  },
  {
   "cell_type": "code",
   "execution_count": 2,
   "metadata": {},
   "outputs": [
    {
     "data": {
      "image/png": "[encoded data removed]",
      "text/plain": [
       "<Figure size 432x288 with 1 Axes>"
      ]
     },
     "metadata": {
      "needs_background": "light"
     },
     "output_type": "display_data"
    }
   ],
   "source": [
    "##### Question 1 #####\n",
    "\n",
    "plt.figure()\n",
    "plt.scatter(x = df['Receipts (bn $)'], y = df['% of GNP'])\n",
    "plt.show()"
   ]
  },
  {
   "cell_type": "code",
   "execution_count": 3,
   "metadata": {},
   "outputs": [
    {
     "data": {
      "text/html": [
       "<div>\n",
       "<style scoped>\n",
       "    .dataframe tbody tr th:only-of-type {\n",
       "        vertical-align: middle;\n",
       "    }\n",
       "\n",
       "    .dataframe tbody tr th {\n",
       "        vertical-align: top;\n",
       "    }\n",
       "\n",
       "    .dataframe thead th {\n",
       "        text-align: right;\n",
       "    }\n",
       "</style>\n",
       "<table border=\"1\" class=\"dataframe\">\n",
       "  <thead>\n",
       "    <tr style=\"text-align: right;\">\n",
       "      <th></th>\n",
       "      <th>Unnamed: 0</th>\n",
       "      <th>Year</th>\n",
       "      <th>Number of tourists (m)</th>\n",
       "      <th>Receipts (bn $)</th>\n",
       "      <th>% of GNP</th>\n",
       "    </tr>\n",
       "  </thead>\n",
       "  <tbody>\n",
       "    <tr>\n",
       "      <th>Unnamed: 0</th>\n",
       "      <td>1.000000</td>\n",
       "      <td>-1.000000</td>\n",
       "      <td>-0.936905</td>\n",
       "      <td>-0.930061</td>\n",
       "      <td>-0.870395</td>\n",
       "    </tr>\n",
       "    <tr>\n",
       "      <th>Year</th>\n",
       "      <td>-1.000000</td>\n",
       "      <td>1.000000</td>\n",
       "      <td>0.936905</td>\n",
       "      <td>0.930061</td>\n",
       "      <td>0.870395</td>\n",
       "    </tr>\n",
       "    <tr>\n",
       "      <th>Number of tourists (m)</th>\n",
       "      <td>-0.936905</td>\n",
       "      <td>0.936905</td>\n",
       "      <td>1.000000</td>\n",
       "      <td>0.994426</td>\n",
       "      <td>0.955270</td>\n",
       "    </tr>\n",
       "    <tr>\n",
       "      <th>Receipts (bn $)</th>\n",
       "      <td>-0.930061</td>\n",
       "      <td>0.930061</td>\n",
       "      <td>0.994426</td>\n",
       "      <td>1.000000</td>\n",
       "      <td>0.932489</td>\n",
       "    </tr>\n",
       "    <tr>\n",
       "      <th>% of GNP</th>\n",
       "      <td>-0.870395</td>\n",
       "      <td>0.870395</td>\n",
       "      <td>0.955270</td>\n",
       "      <td>0.932489</td>\n",
       "      <td>1.000000</td>\n",
       "    </tr>\n",
       "  </tbody>\n",
       "</table>\n",
       "</div>"
      ],
      "text/plain": [
       "                        Unnamed: 0      Year  Number of tourists (m)  \\\n",
       "Unnamed: 0                1.000000 -1.000000               -0.936905   \n",
       "Year                     -1.000000  1.000000                0.936905   \n",
       "Number of tourists (m)   -0.936905  0.936905                1.000000   \n",
       "Receipts (bn $)          -0.930061  0.930061                0.994426   \n",
       "% of GNP                 -0.870395  0.870395                0.955270   \n",
       "\n",
       "                        Receipts (bn $)  % of GNP  \n",
       "Unnamed: 0                    -0.930061 -0.870395  \n",
       "Year                           0.930061  0.870395  \n",
       "Number of tourists (m)         0.994426  0.955270  \n",
       "Receipts (bn $)                1.000000  0.932489  \n",
       "% of GNP                       0.932489  1.000000  "
      ]
     },
     "execution_count": 3,
     "metadata": {},
     "output_type": "execute_result"
    }
   ],
   "source": [
    "##### Question 2 & 3 #####\n",
    "\n",
    "df.corr(method='pearson')\n",
    "# df.corr(method='kendall')\n",
    "# df.corr(method='spearman')"
   ]
  },
  {
   "cell_type": "code",
   "execution_count": null,
   "metadata": {},
   "outputs": [],
   "source": [
    "\"\"\"\n",
    "OUTPUT\n",
    "(1) What kind of correlation is there between Receipts (bn $) and % of GNP? Strong positive correlation\n",
    "(2) What is the correlation coefficient between Receipts (bn $) and % of GNP? 0.932489\n",
    "(3) Which columns have the highest correlation? Number of tourists (m) and Receipts (bn $)\n",
    "\"\"\""
   ]
  }
 ],
 "metadata": {
  "interpreter": {
   "hash": "358dc852899df7f9d85956c30b11481afcceeef977d4870e13115e437e84e91a"
  },
  "kernelspec": {
   "display_name": "Python 3.9.7 ('base')",
   "language": "python",
   "name": "python3"
  },
  "language_info": {
   "codemirror_mode": {
    "name": "ipython",
    "version": 3
   },
   "file_extension": ".py",
   "mimetype": "text/x-python",
   "name": "python",
   "nbconvert_exporter": "python",
   "pygments_lexer": "ipython3",
   "version": "3.9.7"
  },
  "orig_nbformat": 4
 },
 "nbformat": 4,
 "nbformat_minor": 2
}
