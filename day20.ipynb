{
 "cells": [
  {
   "cell_type": "code",
   "execution_count": null,
   "metadata": {},
   "outputs": [],
   "source": [
    "\"\"\"\n",
    "Day 20 Challenge\n",
    "\n",
    "Pull the data from the worldcities table in the world.db database \n",
    "to the pandas DataFrame, then answer the following questions:\n",
    "    (1) Using a Matplotlib histogram, visualize the distribution of population \n",
    "        across all cities. What do you observe?\n",
    "    (2) Create a bar chart with the population of the top 10 most populated\n",
    "        countries. Which country is most populated?\n",
    "\n",
    "Stretch Questions\n",
    "    (1) What is the most populated city Dot visited in the last three weeks?\n",
    "    (2) What is the difference in population between the most populated city \n",
    "        and the least populated city?\n",
    "\n",
    "Revision History\n",
    "    Tonnicca Gelacio, 2022-04-30 : Created\n",
    "    Tonnicca Gelacio, 2022-04-30 : Code Updated\n",
    "    Tonnicca Gelacio, 2022-05-01 : Code Updated\n",
    "    Tonnicca Gelacio, 2022-05-04 : Edited comments and added output\n",
    "\"\"\""
   ]
  },
  {
   "cell_type": "code",
   "execution_count": 1,
   "metadata": {},
   "outputs": [],
   "source": [
    "import pandas as pd\n",
    "import matplotlib.pyplot as plt\n",
    "import sqlite3\n",
    "\n",
    "# connect to database\n",
    "conn = sqlite3.connect(\"db/world.db\")"
   ]
  },
  {
   "cell_type": "code",
   "execution_count": 2,
   "metadata": {},
   "outputs": [
    {
     "data": {
      "image/png": "[encoded data removed]",
      "text/plain": [
       "<Figure size 432x288 with 1 Axes>"
      ]
     },
     "metadata": {
      "needs_background": "light"
     },
     "output_type": "display_data"
    }
   ],
   "source": [
    "##### Question 1 #####\n",
    "\n",
    "# set-up query\n",
    "query = \"SELECT * FROM worldcities;\"\n",
    "result = pd.read_sql_query(query, conn)\n",
    "\n",
    "# plot data\n",
    "plt.figure()\n",
    "plt.hist(result['population'], bins = 50)\n",
    "plt.ticklabel_format(axis=\"x\", style=\"sci\", scilimits=(6,6))\n",
    "plt.show()"
   ]
  },
  {
   "cell_type": "code",
   "execution_count": 6,
   "metadata": {},
   "outputs": [
    {
     "data": {
      "image/png": "[encoded data removed]",
      "text/plain": [
       "<Figure size 432x288 with 1 Axes>"
      ]
     },
     "metadata": {
      "needs_background": "light"
     },
     "output_type": "display_data"
    }
   ],
   "source": [
    "##### Question 2 #####\n",
    "\n",
    "# set-up query\n",
    "query = \"SELECT city_ascii as 'City', country as 'Country', population as 'Population' FROM worldcities;\"\n",
    "result = pd.read_sql_query(query, conn)\n",
    "\n",
    "# group by country then get total population\n",
    "grouped = result.groupby(['Country'])[['Population']].sum()\n",
    "\n",
    "# get top 10 most populated countries, sort desc\n",
    "mostPopulatedCountries = grouped.sort_values('Population', ascending=False).head(10)\n",
    "\n",
    "barData = {}\n",
    "\n",
    "# set-up data for bar graph\n",
    "for i in range(len(mostPopulatedCountries)):\n",
    "    barData[mostPopulatedCountries.index[i]] = int(mostPopulatedCountries.iloc[i,0])\n",
    "\n",
    "# set-up graph\n",
    "plt.figure()\n",
    "plt.bar(x = barData.keys(), height = barData.values())\n",
    "plt.show()\n"
   ]
  },
  {
   "cell_type": "code",
   "execution_count": 4,
   "metadata": {},
   "outputs": [
    {
     "name": "stdout",
     "output_type": "stream",
     "text": [
      "The most populated city Dot has visited is Tokyo with a population of 37,977,000.\n",
      "The difference in population between the most populated city (Tokyo) and the least populated city (Florence) is 37,596,052.\n"
     ]
    }
   ],
   "source": [
    "citiesVisited = ['Vancouver', 'Toronto', 'Munich', 'London', 'Barcelona', 'Paris', 'Florence', 'Dubai', 'Perth', 'Melbourne', 'Tokyo', 'Bangkok', 'Honolulu', 'Seattle']\n",
    "\n",
    "cityPopulation = {} \n",
    "\n",
    "for city in citiesVisited:\n",
    "\n",
    "    # retrieve population from database\n",
    "    query = \"SELECT city_ascii, population FROM worldcities WHERE city_ascii = '\" + city + \"';\"\n",
    "    result = pd.read_sql_query(query, conn)\n",
    "\n",
    "    # save result to cityPopulation\n",
    "    cityPopulation[city] = int(result.iloc[0,1])\n",
    "\n",
    "##### Stretch Question 1 #####\n",
    "\n",
    "# get most populated city using max()\n",
    "mostPopulated = max(cityPopulation, key=cityPopulation.get)\n",
    "\n",
    "##### Stretch Question 2 #####\n",
    "\n",
    "# get least populated city using min()\n",
    "leastPopulated = min(cityPopulation, key=cityPopulation.get)\n",
    "\n",
    "# compute difference between most populated and least populated cities\n",
    "populationDifference = cityPopulation[mostPopulated] - cityPopulation[leastPopulated]\n",
    "\n",
    "# print result\n",
    "print(f'The most populated city Dot has visited is {mostPopulated} with a population of {cityPopulation[mostPopulated]:,}.')\n",
    "\n",
    "print(f'The difference in population between the most populated city ({mostPopulated}) and the least populated city ({leastPopulated}) is {populationDifference:,}.')\n"
   ]
  },
  {
   "cell_type": "code",
   "execution_count": null,
   "metadata": {},
   "outputs": [],
   "source": [
    "\"\"\"\n",
    "OUTPUT\n",
    "\n",
    "(1) Visualize the distribution of population across all cities. What do you observe?\n",
    "    Majority of the cities have a population smaller than 1 million.\n",
    "(2) Which country is most populated? China\n",
    "\n",
    "Stretch Questions:\n",
    "The most populated city Dot has visited is Tokyo with a population of 37,977,000.\n",
    "The difference in population between the most populated city (Tokyo) and the least populated city (Florence) is 37,596,052.\n",
    "\"\"\""
   ]
  },
  {
   "cell_type": "code",
   "execution_count": null,
   "metadata": {},
   "outputs": [],
   "source": [
    "\"\"\"\n",
    "NOTES\n",
    "(1) For the stretch questions, no specific city has been mentioned when Dot visited New Zealand and Nepal so both countries have been excluded from computations.\n",
    "\"\"\""
   ]
  }
 ],
 "metadata": {
  "interpreter": {
   "hash": "358dc852899df7f9d85956c30b11481afcceeef977d4870e13115e437e84e91a"
  },
  "kernelspec": {
   "display_name": "Python 3.9.7 ('base')",
   "language": "python",
   "name": "python3"
  },
  "language_info": {
   "codemirror_mode": {
    "name": "ipython",
    "version": 3
   },
   "file_extension": ".py",
   "mimetype": "text/x-python",
   "name": "python",
   "nbconvert_exporter": "python",
   "pygments_lexer": "ipython3",
   "version": "3.9.7"
  },
  "orig_nbformat": 4
 },
 "nbformat": 4,
 "nbformat_minor": 2
}
