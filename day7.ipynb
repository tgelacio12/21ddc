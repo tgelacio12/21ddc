{
 "cells": [
  {
   "cell_type": "code",
   "execution_count": null,
   "metadata": {},
   "outputs": [],
   "source": [
    "\"\"\"\n",
    "Day 7 Challenge\n",
    "\n",
    "To help Dot learn more about FC Barcelona's statistics, \n",
    "we have the historical La Liga results of the 1988/1989 season.\n",
    "\n",
    "Dot needs you to figure out the answers to the following questions:\n",
    "\n",
    "  (1) What is the maximum amount of games Barcelona played in 1 season?\n",
    "  (2) What is the average attendance across the seasons?\n",
    "  (3) What is the difference between median value of wins and losses?\n",
    "  (4) What is the minimum number of games Barcelona managed to win in 1 season?\n",
    "  (5) What is the difference between max and min amount of points Barcelona \n",
    "      was able to get in all seasons?\n",
    "\n",
    "Revision History\n",
    "  Tonnicca Gelacio, 2022-04-17 : Created\n",
    "  Tonnicca Gelacio, 2022-04-17 : Code Updated\n",
    "  Tonnicca Gelacio, 2022-05-02 : Edited comments\n",
    "\"\"\""
   ]
  },
  {
   "cell_type": "code",
   "execution_count": 2,
   "metadata": {},
   "outputs": [
    {
     "name": "stdout",
     "output_type": "stream",
     "text": [
      "Max Games Played: 42\n",
      "Average Attendance: 72579.85714285714\n",
      "Difference between median value of wins and losses: 19.0\n",
      "Minimum wins in 1 season: 15\n",
      "Difference between max and min amount of points Barcelona was able to get in all seasons: 54\n"
     ]
    }
   ],
   "source": [
    "import pandas as pd\n",
    "\n",
    "def FindMaxGamesPlayed(df):\n",
    "    \"\"\"Displays maximum amount of games played\"\"\"\n",
    "\n",
    "    gamesPlayed = df.MP\n",
    "    gamesPlayedSeries = pd.Series(gamesPlayed)\n",
    "\n",
    "    maxGP = gamesPlayedSeries.max()\n",
    "\n",
    "    print(f'Max Games Played: {maxGP}')    \n",
    "\n",
    "def CalculateAverageAttendance(df):\n",
    "    \"\"\"Displays average attendance across the seasons\"\"\"\n",
    "\n",
    "    attendance = df.Attendance.dropna()\n",
    "    attendanceSeries = pd.Series(attendance)\n",
    "\n",
    "    aveAttendance = attendanceSeries.mean()\n",
    "\n",
    "    print(f'Average Attendance: {aveAttendance}')\n",
    "\n",
    "def CalculateWinLossMedianDifference(df):\n",
    "    \"\"\"Computes and displays difference between median value of wins and losses\"\"\"\n",
    "\n",
    "    wins = df.W\n",
    "    losses = df.L\n",
    "    winSeries = pd.Series(wins)\n",
    "    lossSeries = pd.Series(losses)\n",
    "\n",
    "    winMedian = winSeries.median()\n",
    "    lossMedian = lossSeries.median()\n",
    "    winLossDifference = winMedian - lossMedian\n",
    "\n",
    "    print(f'Difference between median value of wins and losses: {winLossDifference}')\n",
    "\n",
    "def FindMinimumWins(df):\n",
    "    \"\"\"Displays minimum number of games won in 1 season\"\"\"\n",
    "\n",
    "    wins = df.W\n",
    "    winSeries = pd.Series(wins)\n",
    "\n",
    "    minWins = winSeries.min()\n",
    "\n",
    "    print(f'Minimum wins in 1 season: {minWins}')\n",
    "\n",
    "def CalculatePointsDifference(df):\n",
    "    \"\"\"Computes and displays the difference between max and min amount of points the team was able to get in all seasons\"\"\"\n",
    "\n",
    "    points = df.Pts\n",
    "    pointSeries = pd.Series(points)\n",
    "\n",
    "    minPoints = pointSeries.min()\n",
    "    maxPoints = pointSeries.max()\n",
    "\n",
    "    pointsDifference = maxPoints - minPoints\n",
    "\n",
    "    print(f'Difference between max and min amount of points Barcelona was able to get in all seasons: {pointsDifference}')\n",
    "\n",
    "def main():\n",
    "\n",
    "    # set-up dataframe\n",
    "    df = pd.read_csv('db/fc_barcelona.csv')\n",
    "\n",
    "    FindMaxGamesPlayed(df)\n",
    "    CalculateAverageAttendance(df)\n",
    "    CalculateWinLossMedianDifference(df)\n",
    "    FindMinimumWins(df)\n",
    "    CalculatePointsDifference(df)\n",
    "\n",
    "if __name__ == \"__main__\":\n",
    "    main()"
   ]
  },
  {
   "cell_type": "code",
   "execution_count": null,
   "metadata": {},
   "outputs": [],
   "source": [
    "\"\"\"\n",
    "OUTPUT\n",
    "Max Games Played: 42\n",
    "Average Attendance: 72579.85714285714\n",
    "Difference between median value of wins and losses: 19.0\n",
    "Minimum wins in 1 season: 15\n",
    "Difference between max and min amount of points Barcelona was able to get in all seasons: 54\n",
    "\"\"\""
   ]
  }
 ],
 "metadata": {
  "interpreter": {
   "hash": "358dc852899df7f9d85956c30b11481afcceeef977d4870e13115e437e84e91a"
  },
  "kernelspec": {
   "display_name": "Python 3.9.7 ('base')",
   "language": "python",
   "name": "python3"
  },
  "language_info": {
   "codemirror_mode": {
    "name": "ipython",
    "version": 3
   },
   "file_extension": ".py",
   "mimetype": "text/x-python",
   "name": "python",
   "nbconvert_exporter": "python",
   "pygments_lexer": "ipython3",
   "version": "3.9.7"
  },
  "orig_nbformat": 4
 },
 "nbformat": 4,
 "nbformat_minor": 2
}
