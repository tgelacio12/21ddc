{
 "cells": [
  {
   "cell_type": "code",
   "execution_count": null,
   "metadata": {},
   "outputs": [],
   "source": [
    "\"\"\"\n",
    "Day 13 Challenge\n",
    "\n",
    "Use the Pandas plot function to answer these two questions:\n",
    "    (1) Using a histogram, what is the most likely temperature at 9am (Temp9am) in Melbourne?\n",
    "    (2) Using a boxplot, does it ever rain (using variable Rainfall) in Melbourne? \n",
    "        If yes, what was the highest daily amount recorded?\n",
    "\n",
    "Revision History\n",
    "    Tonnicca Gelacio, 2022-04-23 : Created\n",
    "    Tonnicca Gelacio, 2022-04-23 : Code Updated\n",
    "    Tonnicca Gelacio, 2022-05-03 : Edited comments and added output\n",
    "\"\"\""
   ]
  },
  {
   "cell_type": "code",
   "execution_count": 1,
   "metadata": {},
   "outputs": [],
   "source": [
    "import pandas as pd\n",
    "\n",
    "# Load dataframe\n",
    "df = pd.read_csv('db/aus_weather.csv')\n",
    "\n",
    "# x-axis set-up\n",
    "df_date = df.set_index(\"Date\")"
   ]
  },
  {
   "cell_type": "code",
   "execution_count": 2,
   "metadata": {},
   "outputs": [
    {
     "data": {
      "text/plain": [
       "<AxesSubplot:>"
      ]
     },
     "execution_count": 2,
     "metadata": {},
     "output_type": "execute_result"
    },
    {
     "data": {
      "image/png": "[encoded data removed]",
      "text/plain": [
       "<Figure size 432x288 with 1 Axes>"
      ]
     },
     "metadata": {
      "needs_background": "light"
     },
     "output_type": "display_data"
    }
   ],
   "source": [
    "# Q1 - y-axis set-up\n",
    "df_date[df_date['Location'] == 'Melbourne'][\"Temp9am\"].hist(edgecolor=\"black\", linewidth=1.2)"
   ]
  },
  {
   "cell_type": "code",
   "execution_count": 3,
   "metadata": {},
   "outputs": [
    {
     "data": {
      "text/plain": [
       "<AxesSubplot:>"
      ]
     },
     "execution_count": 3,
     "metadata": {},
     "output_type": "execute_result"
    },
    {
     "data": {
      "image/png": "[encoded data removed]",
      "text/plain": [
       "<Figure size 432x288 with 1 Axes>"
      ]
     },
     "metadata": {
      "needs_background": "light"
     },
     "output_type": "display_data"
    }
   ],
   "source": [
    "# Q2 - y-axis set-up\n",
    "df_date[df_date['Location'] == 'Melbourne'][\"Rainfall\"].plot(kind='box')"
   ]
  },
  {
   "cell_type": "code",
   "execution_count": null,
   "metadata": {},
   "outputs": [],
   "source": [
    "\"\"\"\n",
    "OUTPUT\n",
    "(1) What is the most likely temperature at 9am (Temp9am) in Melbourne? 12.5 - 15ºC\n",
    "(2) Does it ever rain in Melbourne? Yes\n",
    "    If yes, what was the highest daily amount recorded? Max > 80mm\n",
    "\"\"\""
   ]
  }
 ],
 "metadata": {
  "interpreter": {
   "hash": "358dc852899df7f9d85956c30b11481afcceeef977d4870e13115e437e84e91a"
  },
  "kernelspec": {
   "display_name": "Python 3.9.7 ('base')",
   "language": "python",
   "name": "python3"
  },
  "language_info": {
   "codemirror_mode": {
    "name": "ipython",
    "version": 3
   },
   "file_extension": ".py",
   "mimetype": "text/x-python",
   "name": "python",
   "nbconvert_exporter": "python",
   "pygments_lexer": "ipython3",
   "version": "3.9.7"
  },
  "orig_nbformat": 4
 },
 "nbformat": 4,
 "nbformat_minor": 2
}
