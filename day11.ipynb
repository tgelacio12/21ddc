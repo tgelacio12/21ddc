{
 "cells": [
  {
   "cell_type": "code",
   "execution_count": null,
   "metadata": {},
   "outputs": [],
   "source": [
    "\"\"\"\n",
    "Day 11 Challenge\n",
    "\n",
    "Using the functions described above, which neighborhood has the biggest difference \n",
    "between maximum and minimum property price?\n",
    "\n",
    "Revision History\n",
    "    Tonnicca Gelacio, 2022-04-21 : Created\n",
    "    Tonnicca Gelacio, 2022-04-21 : Code Updated\n",
    "    Tonnicca Gelacio, 2022-05-03 : Edited comments and added output\n",
    "\"\"\"\n"
   ]
  },
  {
   "cell_type": "code",
   "execution_count": 3,
   "metadata": {},
   "outputs": [
    {
     "data": {
      "text/plain": [
       "neighborhood\n",
       "Palm Jumeirah               34375112\n",
       "Business Bay                30470000\n",
       "Jumeirah                    26300000\n",
       "Downtown Dubai              18688888\n",
       "Jumeirah Beach Residence    14110000\n",
       "Name: price, dtype: int64"
      ]
     },
     "execution_count": 3,
     "metadata": {},
     "output_type": "execute_result"
    }
   ],
   "source": [
    "import pandas as pd\n",
    "import numpy as np\n",
    "\n",
    "# load dataframe\n",
    "df = pd.read_csv('db/dubai_properties_data.csv')\n",
    "\n",
    "# group by neighborhood then use aggregate function to compute difference\n",
    "df.groupby('neighborhood')['price'].agg(np.ptp).sort_values(ascending=False).head()"
   ]
  },
  {
   "cell_type": "code",
   "execution_count": null,
   "metadata": {},
   "outputs": [],
   "source": [
    "\"\"\"\n",
    "OUTPUT\n",
    "Which neighborhood has the biggest difference between maximum and minimum property price?\n",
    "Palm Jumeirah\n",
    "\"\"\""
   ]
  }
 ],
 "metadata": {
  "interpreter": {
   "hash": "358dc852899df7f9d85956c30b11481afcceeef977d4870e13115e437e84e91a"
  },
  "kernelspec": {
   "display_name": "Python 3.9.7 ('base')",
   "language": "python",
   "name": "python3"
  },
  "language_info": {
   "codemirror_mode": {
    "name": "ipython",
    "version": 3
   },
   "file_extension": ".py",
   "mimetype": "text/x-python",
   "name": "python",
   "nbconvert_exporter": "python",
   "pygments_lexer": "ipython3",
   "version": "3.9.7"
  },
  "orig_nbformat": 4
 },
 "nbformat": 4,
 "nbformat_minor": 2
}
