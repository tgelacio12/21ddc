{
 "cells": [
  {
   "cell_type": "code",
   "execution_count": null,
   "metadata": {},
   "outputs": [],
   "source": [
    "\"\"\"\n",
    "Day 15 Challenge\n",
    "\n",
    "Use our database to answer the following questions:\n",
    "    (1) How many peaks are higher than 8000 metres? Use the len() function to count the number of \n",
    "        rows of the DataFrame that were returned by the pd.read_sql() function.\n",
    "    (2) How many women (sex = 'F') were part of the expeditions?\n",
    "\n",
    "Revision History\n",
    "    Tonnicca Gelacio, 2022-04-26 : Created\n",
    "    Tonnicca Gelacio, 2022-04-26 : Code Updated\n",
    "\"\"\""
   ]
  },
  {
   "cell_type": "code",
   "execution_count": 1,
   "metadata": {},
   "outputs": [
    {
     "name": "stdout",
     "output_type": "stream",
     "text": [
      "How many peaks are higher than 8000 metres? 16\n",
      "How many women were part of the expeditions? 7254\n"
     ]
    }
   ],
   "source": [
    "import sqlite3\n",
    "import pandas as pd\n",
    "\n",
    "def main():\n",
    "\n",
    "    # establish connection to db\n",
    "    conn = sqlite3.connect(\"db/himalayas.db\")\n",
    "\n",
    "    ##### Question 1 #####\n",
    "\n",
    "    # set-up query\n",
    "    queryQ1 = \"SELECT * FROM peaks WHERE heightm > 8000;\"\n",
    "\n",
    "    # execute query\n",
    "    resultQ1 = pd.read_sql(queryQ1, conn)\n",
    "\n",
    "    # print result\n",
    "    print(f'How many peaks are higher than 8000 metres? {len(resultQ1)}')\n",
    "\n",
    "    ##### Question 2 #####\n",
    "\n",
    "    # set-up query\n",
    "    queryQ2 = \"SELECT * FROM members WHERE sex = 'F';\"\n",
    "\n",
    "    # execute query\n",
    "    resultQ2 = pd.read_sql(queryQ2, conn)\n",
    "\n",
    "    # print result\n",
    "    print(f'How many women were part of the expeditions? {len(resultQ2)}')\n",
    "\n",
    "if __name__ == \"__main__\":\n",
    "    main()"
   ]
  },
  {
   "cell_type": "code",
   "execution_count": null,
   "metadata": {},
   "outputs": [],
   "source": [
    "\"\"\"\n",
    "OUTPUT\n",
    "How many peaks are higher than 8000 metres? 16\n",
    "How many women were part of the expeditions? 7254\n",
    "\"\"\""
   ]
  }
 ],
 "metadata": {
  "interpreter": {
   "hash": "358dc852899df7f9d85956c30b11481afcceeef977d4870e13115e437e84e91a"
  },
  "kernelspec": {
   "display_name": "Python 3.9.7 ('base')",
   "language": "python",
   "name": "python3"
  },
  "language_info": {
   "codemirror_mode": {
    "name": "ipython",
    "version": 3
   },
   "file_extension": ".py",
   "mimetype": "text/x-python",
   "name": "python",
   "nbconvert_exporter": "python",
   "pygments_lexer": "ipython3",
   "version": "3.9.7"
  },
  "orig_nbformat": 4
 },
 "nbformat": 4,
 "nbformat_minor": 2
}
