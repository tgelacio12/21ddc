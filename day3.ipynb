{
 "cells": [
  {
   "cell_type": "code",
   "execution_count": null,
   "metadata": {},
   "outputs": [],
   "source": [
    "\"\"\"\n",
    "Day 3 Challenge\n",
    "\n",
    "We need to find Dot an empty seat on the plane... \n",
    "\n",
    "Dot has two conditions for their sitting:\n",
    "    (1) It has to be window seat\n",
    "    (2) The next seat needs to be empty\n",
    "\n",
    "Identify the right place for Dot to sit. If there is more than one option that matches \n",
    "the conditions above, choose the seat that is closer to the front, \n",
    "i.e. has a lower row number. What is the list index of Dot's seat?\n",
    "\n",
    "Stretch Question\n",
    "    - Use python's pop() and insert() list functions to change Dot's seat from E to O.\n",
    "\n",
    "Revision History\n",
    "    Tonnicca Gelacio, 2022-04-13 : Created\n",
    "    Tonnicca Gelacio, 2022-04-13 : Code Updated\n",
    "    Tonnicca Gelacio, 2022-05-02 : Edited comments and added output\n",
    "\"\"\""
   ]
  },
  {
   "cell_type": "code",
   "execution_count": 1,
   "metadata": {},
   "outputs": [
    {
     "name": "stdout",
     "output_type": "stream",
     "text": [
      "Best seat: 3-10\n",
      "[['O', 'e', 'e', None, 'e', 'o', 'e', None, 'o', 'o', 'E'], ['O', 'o', 'e', None, 'e', 'o', 'e', None, 'e', 'o', 'E'], ['O', 'o', 'o', None, 'o', 'o', 'e', None, 'o', 'e', 'O'], ['E', 'o', 'e', None, 'e', 'o', 'e', None, 'o', 'e', 'DOT'], ['E', 'e', 'o', None, 'e', 'e', 'e', None, 'o', 'o', 'E'], ['O', 'e', 'e', None, 'e', 'e', 'e', None, 'e', 'e', 'E']]\n"
     ]
    }
   ],
   "source": [
    "def main():\n",
    "    layout = [\n",
    "        [\"O\",\"e\",\"e\",None, \"e\",\"o\",\"e\",None, \"o\",\"o\",\"E\"], # row 1\n",
    "        [\"O\",\"o\",\"e\",None, \"e\",\"o\",\"e\",None, \"e\",\"o\",\"E\"], # row 2\n",
    "        [\"O\",\"o\",\"o\",None, \"o\",\"o\",\"e\",None, \"o\",\"e\",\"O\"], # row 3\n",
    "        [\"E\",\"o\",\"e\",None, \"e\",\"o\",\"e\",None, \"o\",\"e\",\"E\"], # row 4 \n",
    "        [\"E\",\"e\",\"o\",None, \"e\",\"e\",\"e\",None, \"o\",\"o\",\"E\"], # row 5\n",
    "        [\"O\",\"e\",\"e\",None, \"e\",\"e\",\"e\",None, \"e\",\"e\",\"E\"]  # row 6\n",
    "    ]\n",
    "\n",
    "    result = [] #empty list for results\n",
    "\n",
    "    for row in layout:\n",
    "        rowIndex = layout.index(row)\n",
    "        rowLength = len(row)\n",
    "\n",
    "        # check if leftmost window seat is available\n",
    "        if row[0] == \"E\" and row[1] == \"e\" :\n",
    "            result.append([rowIndex, 0]) # add to result\n",
    "        \n",
    "        # check if rightmost window seat is available\n",
    "        if row[-1] == \"E\" and row[-2] == \"e\":\n",
    "            result.append([rowIndex, rowLength - 1]) #add to result\n",
    "\n",
    "    # print(result) # test - display list of results\n",
    "\n",
    "    # get closest available window seat\n",
    "    closestRow, closestSeat= min(result, key=lambda i: i[0])\n",
    "\n",
    "    # print result\n",
    "    print(f'Best seat: {closestRow}-{closestSeat}')\n",
    "\n",
    "    ##### STRETCH QUESTION #####\n",
    "\n",
    "    # create new layout\n",
    "    newLayout = layout\n",
    "\n",
    "    # update Dot's seat to occupied using pop() and insert ()\n",
    "    newLayout[closestRow].pop(closestSeat)\n",
    "    newLayout[closestRow].insert(closestSeat, \"DOT\")\n",
    "    #newLayout[closestRow].insert(closestSeat, \"O\")\n",
    "\n",
    "    # display new layout - test\n",
    "    print(newLayout)\n",
    "\n",
    "if __name__ == \"__main__\":\n",
    "    main()"
   ]
  },
  {
   "cell_type": "code",
   "execution_count": null,
   "metadata": {},
   "outputs": [],
   "source": [
    "\"\"\"\n",
    "OUTPUT\n",
    "Best seat: 3-10\n",
    "[['O', 'e', 'e', None, 'e', 'o', 'e', None, 'o', 'o', 'E'], \n",
    "['O', 'o', 'e', None, 'e', 'o', 'e', None, 'e', 'o', 'E'], \n",
    "['O', 'o', 'o', None, 'o', 'o', 'e', None, 'o', 'e', 'O'], \n",
    "['E', 'o', 'e', None, 'e', 'o', 'e', None, 'o', 'e', 'DOT'], \n",
    "['E', 'e', 'o', None, 'e', 'e', 'e', None, 'o', 'o', 'E'], \n",
    "['O', 'e', 'e', None, 'e', 'e', 'e', None, 'e', 'e', 'E']]\n",
    "\"\"\""
   ]
  },
  {
   "cell_type": "code",
   "execution_count": null,
   "metadata": {},
   "outputs": [],
   "source": [
    "\"\"\"\n",
    "NOTES\n",
    "Our plane section contains three sections of seats in each row, and three seats in each section. \n",
    "Here is what the values in the layout mean:\n",
    "  e = empty seat\n",
    "  o = occupied seat\n",
    "  None = aisle (you can't sit here!)\n",
    "  Capital letters = window seats\n",
    "\"\"\""
   ]
  }
 ],
 "metadata": {
  "interpreter": {
   "hash": "358dc852899df7f9d85956c30b11481afcceeef977d4870e13115e437e84e91a"
  },
  "kernelspec": {
   "display_name": "Python 3.9.7 ('base')",
   "language": "python",
   "name": "python3"
  },
  "language_info": {
   "codemirror_mode": {
    "name": "ipython",
    "version": 3
   },
   "file_extension": ".py",
   "mimetype": "text/x-python",
   "name": "python",
   "nbconvert_exporter": "python",
   "pygments_lexer": "ipython3",
   "version": "3.9.7"
  },
  "orig_nbformat": 4
 },
 "nbformat": 4,
 "nbformat_minor": 2
}
