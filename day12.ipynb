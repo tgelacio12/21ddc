{
 "cells": [
  {
   "cell_type": "code",
   "execution_count": null,
   "metadata": {},
   "outputs": [],
   "source": [
    "\"\"\"\n",
    "Day 12 Challenge\n",
    "\n",
    "Step 1: Using the season column, filter the DataFrame so it contains only rows \n",
    "        for summer and winter.\n",
    "\n",
    "Step 2: Using groupby() and unstack(), compute the difference between the average \n",
    "        temperature in summer and winter(at 9am) for all locations.\n",
    "\n",
    "Question: \n",
    "What is the difference between the average summer temperatures (using variable Temp9am) \n",
    "and the average winter temperatures (using variable Temp9am) for Adelaide, Albany and Albury?\n",
    "\n",
    "Revision History\n",
    "    Tonnicca Gelacio, 2022-04-22 : Created\n",
    "    Tonnicca Gelacio, 2022-04-22 : Code Updated\n",
    "    Tonnicca Gelacio, 2022-05-03 : Edited comments and added output\n",
    "\"\"\""
   ]
  },
  {
   "cell_type": "code",
   "execution_count": 1,
   "metadata": {},
   "outputs": [
    {
     "data": {
      "text/plain": [
       "Location\n",
       "Adelaide    10.712865\n",
       "Albany       7.395200\n",
       "Albury      14.257001\n",
       "dtype: float64"
      ]
     },
     "execution_count": 1,
     "metadata": {},
     "output_type": "execute_result"
    }
   ],
   "source": [
    "import pandas as pd\n",
    "\n",
    "# load dataframe\n",
    "df = pd.read_csv('db/aus_weather.csv')\n",
    "\n",
    "# Step 1 - Filter dataframe\n",
    "seasonFilter = (df['season'] == 'summer') |  (df['season'] == 'winter')\n",
    "seasonFilteredDF = df[seasonFilter]\n",
    "\n",
    "# Step 2A - Group by location and season then get average\n",
    "grouped = seasonFilteredDF.groupby([\"Location\",\"season\"])[[\"Temp9am\"]].mean()\n",
    "\n",
    "# Step 2B - Unstack\n",
    "unstack = grouped.unstack()\n",
    "\n",
    "# Step 2C - Compute difference then display first 3 results\n",
    "(unstack.iloc[:,0] - unstack.iloc[:,1]).head(3)"
   ]
  },
  {
   "cell_type": "code",
   "execution_count": null,
   "metadata": {},
   "outputs": [],
   "source": [
    "\"\"\"\n",
    "OUTPUT\n",
    "Location  \n",
    "Adelaide      10.712865\n",
    "Albany        7.395200\n",
    "Albury        14.257001     \n",
    "\"\"\""
   ]
  }
 ],
 "metadata": {
  "interpreter": {
   "hash": "358dc852899df7f9d85956c30b11481afcceeef977d4870e13115e437e84e91a"
  },
  "kernelspec": {
   "display_name": "Python 3.9.7 ('base')",
   "language": "python",
   "name": "python3"
  },
  "language_info": {
   "codemirror_mode": {
    "name": "ipython",
    "version": 3
   },
   "file_extension": ".py",
   "mimetype": "text/x-python",
   "name": "python",
   "nbconvert_exporter": "python",
   "pygments_lexer": "ipython3",
   "version": "3.9.7"
  },
  "orig_nbformat": 4
 },
 "nbformat": 4,
 "nbformat_minor": 2
}
