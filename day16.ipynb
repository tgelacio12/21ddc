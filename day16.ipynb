{
 "cells": [
  {
   "cell_type": "code",
   "execution_count": null,
   "metadata": {},
   "outputs": [],
   "source": [
    "\"\"\"\n",
    "Day 16 Challenge\n",
    "\n",
    "Answer following questions using our database:\n",
    "    (1) How many expeditions went to the peak of Everest?\n",
    "    (2) How many people went to the peak of Everest? (One person could have gone more than once.)\n",
    "\n",
    "Revision History\n",
    "    Tonnicca Gelacio, 2022-04-26 : Created\n",
    "    Tonnicca Gelacio, 2022-04-27 : Code Updated\n",
    "\"\"\""
   ]
  },
  {
   "cell_type": "code",
   "execution_count": 3,
   "metadata": {},
   "outputs": [
    {
     "name": "stdout",
     "output_type": "stream",
     "text": [
      "How many expeditions went to the peak of Everest? 2161\n",
      "How many people went to the peak of Everest? 21900\n"
     ]
    }
   ],
   "source": [
    "import sqlite3\n",
    "import pandas as pd\n",
    "\n",
    "def main():\n",
    "\n",
    "    # establish connection to db\n",
    "    conn = sqlite3.connect(\"db/himalayas.db\")\n",
    "\n",
    "    ##### Question 1 #####\n",
    "\n",
    "    # set-up query\n",
    "    queryQ1 = \"SELECT E.*, P.pkname, P.location FROM exped as E INNER JOIN peaks as P on E.peakid = P.peakid WHERE E.peakid = 'EVER';\"\n",
    "\n",
    "    # execute query\n",
    "    resultQ1 = pd.read_sql(queryQ1, conn)\n",
    "\n",
    "    # print result\n",
    "    print(f'How many expeditions went to the peak of Everest? {len(resultQ1)}')\n",
    "\n",
    "    ##### Question 2 #####\n",
    "\n",
    "    # set-up query\n",
    "    queryQ2 = \"SELECT P.peakid, P.pkname, M.fname, M.lname, M.status FROM peaks as P INNER JOIN members as M on P.peakid = M.peakid where P.peakid = 'EVER'\"\n",
    "\n",
    "    # execute query\n",
    "    resultQ2 = pd.read_sql(queryQ2, conn)\n",
    "\n",
    "    # print result\n",
    "    print(f'How many people went to the peak of Everest? {len(resultQ2)}')\n",
    "\n",
    "if __name__ == \"__main__\":\n",
    "    main()"
   ]
  },
  {
   "cell_type": "code",
   "execution_count": null,
   "metadata": {},
   "outputs": [],
   "source": [
    "\"\"\"\n",
    "OUTPUT\n",
    "How many expeditions went to the peak of Everest? 2161\n",
    "How many people went to the peak of Everest? 21900\n",
    "\"\"\""
   ]
  }
 ],
 "metadata": {
  "interpreter": {
   "hash": "358dc852899df7f9d85956c30b11481afcceeef977d4870e13115e437e84e91a"
  },
  "kernelspec": {
   "display_name": "Python 3.9.7 ('base')",
   "language": "python",
   "name": "python3"
  },
  "language_info": {
   "codemirror_mode": {
    "name": "ipython",
    "version": 3
   },
   "file_extension": ".py",
   "mimetype": "text/x-python",
   "name": "python",
   "nbconvert_exporter": "python",
   "pygments_lexer": "ipython3",
   "version": "3.9.7"
  },
  "orig_nbformat": 4
 },
 "nbformat": 4,
 "nbformat_minor": 2
}
