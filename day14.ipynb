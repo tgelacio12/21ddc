{
 "cells": [
  {
   "cell_type": "code",
   "execution_count": null,
   "metadata": {},
   "outputs": [],
   "source": [
    "\"\"\"\n",
    "Day 14 Challenge\n",
    "\n",
    "(1) Find the region (using variable regionName) with the lowest total amount of light \n",
    "    (using variable classWeight) traffic, and the region with the lowest total amount of heavy \n",
    "    (using variable classWeight) traffic.\n",
    "(2) Using a bar chart, which month had the lowest amount of total traffic in 2020?\n",
    "(3) What percent of New Zealand's traffic (using variable trafficCount) was classified as heavy \n",
    "    (using variable classWeight) in 2020?\n",
    "\n",
    "Revision History\n",
    "    Tonnicca Gelacio, 2022-04-25 : Created\n",
    "    Tonnicca Gelacio, 2022-04-25 : Code Updated\n",
    "    Tonnicca Gelacio, 2022-05-03 : Edited comments and added output\n",
    "\"\"\""
   ]
  },
  {
   "cell_type": "code",
   "execution_count": 1,
   "metadata": {},
   "outputs": [],
   "source": [
    "import pandas as pd\n",
    "\n",
    "# load dataframe\n",
    "df = pd.read_csv('db/nz_car_traffic.csv')"
   ]
  },
  {
   "cell_type": "code",
   "execution_count": 2,
   "metadata": {},
   "outputs": [
    {
     "data": {
      "text/html": [
       "<div>\n",
       "<style scoped>\n",
       "    .dataframe tbody tr th:only-of-type {\n",
       "        vertical-align: middle;\n",
       "    }\n",
       "\n",
       "    .dataframe tbody tr th {\n",
       "        vertical-align: top;\n",
       "    }\n",
       "\n",
       "    .dataframe thead th {\n",
       "        text-align: right;\n",
       "    }\n",
       "</style>\n",
       "<table border=\"1\" class=\"dataframe\">\n",
       "  <thead>\n",
       "    <tr style=\"text-align: right;\">\n",
       "      <th></th>\n",
       "      <th></th>\n",
       "      <th>trafficCount</th>\n",
       "    </tr>\n",
       "    <tr>\n",
       "      <th>regionName</th>\n",
       "      <th>classWeight</th>\n",
       "      <th></th>\n",
       "    </tr>\n",
       "  </thead>\n",
       "  <tbody>\n",
       "    <tr>\n",
       "      <th>12 - West Coast</th>\n",
       "      <th>Light</th>\n",
       "      <td>13979894.0</td>\n",
       "    </tr>\n",
       "    <tr>\n",
       "      <th>05 - Gisborne</th>\n",
       "      <th>Light</th>\n",
       "      <td>15683746.5</td>\n",
       "    </tr>\n",
       "    <tr>\n",
       "      <th>14 - Southland</th>\n",
       "      <th>Light</th>\n",
       "      <td>28749171.5</td>\n",
       "    </tr>\n",
       "    <tr>\n",
       "      <th>07 - Taranaki</th>\n",
       "      <th>Light</th>\n",
       "      <td>46193235.0</td>\n",
       "    </tr>\n",
       "    <tr>\n",
       "      <th>01 - Northland</th>\n",
       "      <th>Light</th>\n",
       "      <td>46391943.5</td>\n",
       "    </tr>\n",
       "  </tbody>\n",
       "</table>\n",
       "</div>"
      ],
      "text/plain": [
       "                             trafficCount\n",
       "regionName      classWeight              \n",
       "12 - West Coast Light          13979894.0\n",
       "05 - Gisborne   Light          15683746.5\n",
       "14 - Southland  Light          28749171.5\n",
       "07 - Taranaki   Light          46193235.0\n",
       "01 - Northland  Light          46391943.5"
      ]
     },
     "execution_count": 2,
     "metadata": {},
     "output_type": "execute_result"
    }
   ],
   "source": [
    "### Question 1A - Light traffic ###\n",
    "\n",
    "# filter dataframe\n",
    "lightFilter = (df['classWeight'] == 'Light')\n",
    "lightFilteredDF = df[lightFilter]\n",
    "\n",
    "# get sum of traffic count by region\n",
    "grouped = lightFilteredDF.groupby(['regionName','classWeight'])[['trafficCount']].sum()\n",
    "\n",
    "# sort and display results\n",
    "grouped.sort_values('trafficCount', ascending=True).head()"
   ]
  },
  {
   "cell_type": "code",
   "execution_count": 3,
   "metadata": {},
   "outputs": [
    {
     "data": {
      "text/html": [
       "<div>\n",
       "<style scoped>\n",
       "    .dataframe tbody tr th:only-of-type {\n",
       "        vertical-align: middle;\n",
       "    }\n",
       "\n",
       "    .dataframe tbody tr th {\n",
       "        vertical-align: top;\n",
       "    }\n",
       "\n",
       "    .dataframe thead th {\n",
       "        text-align: right;\n",
       "    }\n",
       "</style>\n",
       "<table border=\"1\" class=\"dataframe\">\n",
       "  <thead>\n",
       "    <tr style=\"text-align: right;\">\n",
       "      <th></th>\n",
       "      <th></th>\n",
       "      <th>trafficCount</th>\n",
       "    </tr>\n",
       "    <tr>\n",
       "      <th>regionName</th>\n",
       "      <th>classWeight</th>\n",
       "      <th></th>\n",
       "    </tr>\n",
       "  </thead>\n",
       "  <tbody>\n",
       "    <tr>\n",
       "      <th>12 - West Coast</th>\n",
       "      <th>Heavy</th>\n",
       "      <td>883142.0</td>\n",
       "    </tr>\n",
       "    <tr>\n",
       "      <th>05 - Gisborne</th>\n",
       "      <th>Heavy</th>\n",
       "      <td>1311729.5</td>\n",
       "    </tr>\n",
       "    <tr>\n",
       "      <th>07 - Taranaki</th>\n",
       "      <th>Heavy</th>\n",
       "      <td>2273211.0</td>\n",
       "    </tr>\n",
       "    <tr>\n",
       "      <th>10 - Nelson/Marlborough</th>\n",
       "      <th>Heavy</th>\n",
       "      <td>2537871.5</td>\n",
       "    </tr>\n",
       "    <tr>\n",
       "      <th>14 - Southland</th>\n",
       "      <th>Heavy</th>\n",
       "      <td>2553491.5</td>\n",
       "    </tr>\n",
       "  </tbody>\n",
       "</table>\n",
       "</div>"
      ],
      "text/plain": [
       "                                     trafficCount\n",
       "regionName              classWeight              \n",
       "12 - West Coast         Heavy            883142.0\n",
       "05 - Gisborne           Heavy           1311729.5\n",
       "07 - Taranaki           Heavy           2273211.0\n",
       "10 - Nelson/Marlborough Heavy           2537871.5\n",
       "14 - Southland          Heavy           2553491.5"
      ]
     },
     "execution_count": 3,
     "metadata": {},
     "output_type": "execute_result"
    }
   ],
   "source": [
    "#### Question 1B - Heavy traffic ###\n",
    "\n",
    "# filter dataframe\n",
    "heavyFilter = (df['classWeight'] == 'Heavy')\n",
    "heavyFilteredDF = df[heavyFilter]\n",
    "\n",
    "# get sum of traffic count by region\n",
    "grouped = heavyFilteredDF.groupby(['regionName','classWeight'])[['trafficCount']].sum()\n",
    "\n",
    "# sort and display results\n",
    "grouped.sort_values('trafficCount', ascending=True).head()"
   ]
  },
  {
   "cell_type": "code",
   "execution_count": 4,
   "metadata": {},
   "outputs": [
    {
     "data": {
      "text/plain": [
       "<AxesSubplot:xlabel='month'>"
      ]
     },
     "execution_count": 4,
     "metadata": {},
     "output_type": "execute_result"
    },
    {
     "data": {
      "image/png": "[encoded data removed]",
      "text/plain": [
       "<Figure size 432x288 with 1 Axes>"
      ]
     },
     "metadata": {
      "needs_background": "light"
     },
     "output_type": "display_data"
    }
   ],
   "source": [
    "### Question 2 ###\n",
    "\n",
    "# get traffic count by month\n",
    "barData = df.groupby(['month'])[['trafficCount']].sum()\n",
    "\n",
    "# display graph\n",
    "barData.plot(kind='bar')"
   ]
  },
  {
   "cell_type": "code",
   "execution_count": 5,
   "metadata": {},
   "outputs": [
    {
     "name": "stdout",
     "output_type": "stream",
     "text": [
      "Traffic Count Total: 3271834449.0\n",
      "Heavy Traffic Total: 141007280.5\n",
      "What percent of New Zealand's traffic was classified as heavy in 2020? 4.3097315190595085\n"
     ]
    }
   ],
   "source": [
    "### Question 3 ###\n",
    "\n",
    "# calculate total traffic count\n",
    "trafficCountTotal = df['trafficCount'].sum()\n",
    "print(f'Traffic Count Total: {trafficCountTotal}')\n",
    "\n",
    "# calculate heavy traffic total\n",
    "heavyFilter = (df['classWeight'] == 'Heavy')\n",
    "heavyFilteredDF = df[heavyFilter]\n",
    "heavyTrafficTotal = heavyFilteredDF['trafficCount'].sum()\n",
    "print(f'Heavy Traffic Total: {heavyTrafficTotal}')\n",
    "\n",
    "# calculate percentage\n",
    "heavyTrafficPercentage = (heavyTrafficTotal/trafficCountTotal) * 100\n",
    "print(f'What percent of New Zealand\\'s traffic was classified as heavy in 2020? {heavyTrafficPercentage}')"
   ]
  },
  {
   "cell_type": "code",
   "execution_count": null,
   "metadata": {},
   "outputs": [],
   "source": [
    "\"\"\"\n",
    "OUTPUT\n",
    "(1) Lowest total amount of light traffic: 12 - West Coast - Light - 1.397989e+07\n",
    "    Lowest total amount of heavy traffic: 12 - West Coast - Heavy - 8.831420e+05\n",
    "(2) Which month had the lowest amount of total traffic in 2020? April (2020-04)\n",
    "(3) What percent of New Zealand's traffic was classified as heavy in 2020? 4.31%\n",
    "\"\"\""
   ]
  }
 ],
 "metadata": {
  "interpreter": {
   "hash": "358dc852899df7f9d85956c30b11481afcceeef977d4870e13115e437e84e91a"
  },
  "kernelspec": {
   "display_name": "Python 3.9.7 ('base')",
   "language": "python",
   "name": "python3"
  },
  "language_info": {
   "codemirror_mode": {
    "name": "ipython",
    "version": 3
   },
   "file_extension": ".py",
   "mimetype": "text/x-python",
   "name": "python",
   "nbconvert_exporter": "python",
   "pygments_lexer": "ipython3",
   "version": "3.9.7"
  },
  "orig_nbformat": 4
 },
 "nbformat": 4,
 "nbformat_minor": 2
}
