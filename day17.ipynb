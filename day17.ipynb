{
 "cells": [
  {
   "cell_type": "code",
   "execution_count": null,
   "metadata": {},
   "outputs": [],
   "source": [
    "\"\"\"\n",
    "Day 17 Challenge\n",
    "\n",
    "Use the bar chart from matplotlib to answer the following question:\n",
    "    What were the two most popular Toyota vehicle categories in 2020?\n",
    "\n",
    "Revision History\n",
    "    Tonnicca Gelacio, 2022-04-27 : Created\n",
    "    Tonnicca Gelacio, 2022-04-27 : Code Updated\n",
    "\"\"\""
   ]
  },
  {
   "cell_type": "code",
   "execution_count": 2,
   "metadata": {},
   "outputs": [
    {
     "data": {
      "image/png": "[encoded data removed]",
      "text/plain": [
       "<Figure size 432x288 with 1 Axes>"
      ]
     },
     "metadata": {
      "needs_background": "light"
     },
     "output_type": "display_data"
    }
   ],
   "source": [
    "import pandas as pd\n",
    "import matplotlib.pyplot as plt\n",
    "\n",
    "# load dataframe\n",
    "df = pd.read_csv('db/toyota_cars.csv')\n",
    "\n",
    "# filter dataframe\n",
    "yearFilter = (df['Year'] == 2020)\n",
    "yearFilteredDF = df[yearFilter]\n",
    "\n",
    "# get count per category\n",
    "grouped = yearFilteredDF.groupby([\"Category\"])['Category'].size().reset_index(name='Count')\n",
    "\n",
    "# set-up graph\n",
    "plt.figure()\n",
    "plt.bar(x = grouped['Category'], height = grouped['Count'])\n",
    "plt.title(\"Toyota Vehicle Categories in 2020\")\n",
    "plt.show()"
   ]
  },
  {
   "cell_type": "code",
   "execution_count": null,
   "metadata": {},
   "outputs": [],
   "source": [
    "\"\"\"\n",
    "OUTPUT\n",
    "Q: What were the two most popular Toyota vehicle categories in 2020?\n",
    "A: SUV (8), Sedan (7)\n",
    "\"\"\""
   ]
  }
 ],
 "metadata": {
  "interpreter": {
   "hash": "358dc852899df7f9d85956c30b11481afcceeef977d4870e13115e437e84e91a"
  },
  "kernelspec": {
   "display_name": "Python 3.9.7 ('base')",
   "language": "python",
   "name": "python3"
  },
  "language_info": {
   "codemirror_mode": {
    "name": "ipython",
    "version": 3
   },
   "file_extension": ".py",
   "mimetype": "text/x-python",
   "name": "python",
   "nbconvert_exporter": "python",
   "pygments_lexer": "ipython3",
   "version": "3.9.7"
  },
  "orig_nbformat": 4
 },
 "nbformat": 4,
 "nbformat_minor": 2
}
