{
 "cells": [
  {
   "cell_type": "code",
   "execution_count": null,
   "metadata": {},
   "outputs": [],
   "source": [
    "\"\"\"\n",
    "Day 5 Challenge\n",
    "\n",
    "Dot wants to visit all the London landmarks where the wait time is less than 15 minutes. \n",
    "We have a dictionary called landmarks, within which landmark names are keys and \n",
    "wait times are their respective values.\n",
    "\n",
    "Using Python, develop a list of the landmarks where the wait time is less than 15 minutes. \n",
    "What will be the length of the list?\n",
    "\n",
    "Revision History\n",
    "    Tonnicca Gelacio, 2022-04-15 : Created\n",
    "    Tonnicca Gelacio, 2022-04-15 : Code Updated\n",
    "    Tonnicca Gelacio, 2022-05-02 : Edited comments and added output\n",
    "\"\"\"\n"
   ]
  },
  {
   "cell_type": "code",
   "execution_count": 1,
   "metadata": {},
   "outputs": [
    {
     "name": "stdout",
     "output_type": "stream",
     "text": [
      "Landmarks with less than 15 mins wait time: 5\n",
      "['Big Ben', 'London Transport Museum', 'Wembley Stadium', 'Hyde Park', 'The View from The Shard']\n"
     ]
    }
   ],
   "source": [
    "def main():\n",
    "\n",
    "    landmarks = {\n",
    "        \"Big Ben\": 12,\n",
    "        \"Tower Bridge\": 25,\n",
    "        \"Buckingham Palace\": 15,\n",
    "        \"Madame Tussauds\": 25,\n",
    "        \"London Eye\": 40,\n",
    "        \"Tower of London\": 25,\n",
    "        \"Emirates Air Line cable car\": 16,\n",
    "        \"London Transport Museum\": 7,\n",
    "        \"Wembley Stadium\": 8,\n",
    "        \"Hyde Park\": 0,\n",
    "        \"The View from The Shard\": 14\n",
    "    }\n",
    "\n",
    "    results = []\n",
    "\n",
    "    for landmark, waitTime in landmarks.items():\n",
    "        \n",
    "        # add to results list if wait time is less than 15 mins\n",
    "        if waitTime < 15:\n",
    "            results.append(landmark)\n",
    "    \n",
    "    print('Landmarks with less than 15 mins wait time:', len(results))\n",
    "    print(results)\n",
    "\n",
    "\n",
    "if __name__ == \"__main__\":\n",
    "    main()"
   ]
  },
  {
   "cell_type": "code",
   "execution_count": null,
   "metadata": {},
   "outputs": [],
   "source": [
    "\"\"\"\n",
    "OUTPUT\n",
    "Landmarks with less than 15 mins wait time: 5\n",
    "['Big Ben', 'London Transport Museum', 'Wembley Stadium', 'Hyde Park', 'The View from The Shard']\n",
    "\"\"\""
   ]
  }
 ],
 "metadata": {
  "interpreter": {
   "hash": "358dc852899df7f9d85956c30b11481afcceeef977d4870e13115e437e84e91a"
  },
  "kernelspec": {
   "display_name": "Python 3.9.7 ('base')",
   "language": "python",
   "name": "python3"
  },
  "language_info": {
   "codemirror_mode": {
    "name": "ipython",
    "version": 3
   },
   "file_extension": ".py",
   "mimetype": "text/x-python",
   "name": "python",
   "nbconvert_exporter": "python",
   "pygments_lexer": "ipython3",
   "version": "3.9.7"
  },
  "orig_nbformat": 4
 },
 "nbformat": 4,
 "nbformat_minor": 2
}
