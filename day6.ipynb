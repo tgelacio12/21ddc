{
 "cells": [
  {
   "cell_type": "code",
   "execution_count": null,
   "metadata": {},
   "outputs": [],
   "source": [
    "\"\"\"\n",
    "Day 6 Challenge\n",
    "\n",
    "We need to write a function called find_the_gate() that returns the coordinates of an available gate, \n",
    "or returns false if there is no available spot. \n",
    "\n",
    "Our function receives a list representing all gates, and a string with the type of airplane that is looking for a gate.\n",
    "Our function must return a number with the position of the gate where the airplane can park.\n",
    "\n",
    "What will be the output of:\n",
    "    ['w','n','n','w','N','n','w','N','N','w','n','n','w','n','n','W','W','W','W','n','n','w','n','n'], 'wide'\n",
    "\n",
    "Revision History\n",
    "    Tonnicca Gelacio, 2022-04-16 : Created\n",
    "    Tonnicca Gelacio, 2022-04-16 : Code Updated\n",
    "    Tonnicca Gelacio, 2022-05-02 : Edited comments and added output\n",
    "\"\"\""
   ]
  },
  {
   "cell_type": "code",
   "execution_count": 1,
   "metadata": {},
   "outputs": [
    {
     "name": "stdout",
     "output_type": "stream",
     "text": [
      "15\n"
     ]
    }
   ],
   "source": [
    "def FindTheGate(spots, vehicle):\n",
    "    \"\"\"\n",
    "    This function returns the coordinates of an available gate, or returns false if there is no available spot.\n",
    "    Expected parameters: list representing all gates and string with the type of airplane\n",
    "    \"\"\"\n",
    "\n",
    "    # Check for type of vehicle. If wide:\n",
    "    if vehicle == 'wide':\n",
    "        if 'W' in spots:\n",
    "            return spots.index('W')\n",
    "        else:\n",
    "            return False\n",
    "    \n",
    "    # If narrow:\n",
    "    elif vehicle == 'narrow':\n",
    "\n",
    "        indexList = []\n",
    "\n",
    "        # Check for all available spots\n",
    "        for i in range(len(spots)):\n",
    "            if spots[i] == 'N' or spots[i] == 'W':\n",
    "                indexList.append(i)\n",
    "        \n",
    "        # If there available spots:\n",
    "        if len(indexList) > 0:\n",
    "            print(indexList) #test\n",
    "            # return first available spot\n",
    "            return indexList[0]\n",
    "        else:\n",
    "            return False\n",
    "            #return 'No available spots.' #test\n",
    "\n",
    "def main():\n",
    "    result = FindTheGate(['w','n','n','w','N','n','w','N','N','w','n','n','w','n','n','W','W','W','W','n','n',\n",
    "                        'w','n','n'], 'wide')\n",
    "    print(result)\n",
    "\n",
    "if __name__ == \"__main__\":\n",
    "    main()"
   ]
  },
  {
   "cell_type": "code",
   "execution_count": null,
   "metadata": {},
   "outputs": [],
   "source": [
    "\"\"\" \n",
    "OUTPUT\n",
    "15\n",
    "\"\"\""
   ]
  },
  {
   "cell_type": "code",
   "execution_count": null,
   "metadata": {},
   "outputs": [],
   "source": [
    "\"\"\"\n",
    "NOTES\n",
    "There are 2 kinds of possible airplanes: Narrow-Body (Single aisle) or Wide-Body.\n",
    "    (1) Wide-Body planes can only use gates in W spots.\n",
    "    (2) Narrow-Body planes can use gates in either N or W spots.\n",
    "\n",
    "In the list of gates, gates are written in either lower-case or upper-case. \n",
    "    An upper-case letter means that the particular gate is AVAILABLE, \n",
    "    while a lower-case letter means that the gate is UNAVAILABLE.\n",
    "\n",
    "There may be multiple available spots for a particular airplane. \n",
    "If that happens, our function should return the first possible spot to minimize the airplane taxiing time. \n",
    "If there are no available gates, remember to return boolean value False.\n",
    "\n",
    "Examples:\n",
    "['w','n','N'], 'narrow' > 2\n",
    "['w','n','N','W','n','W'],'wide' > 3\n",
    "['w','n','n','w','n','n'], 'narrow' > False\n",
    "\"\"\""
   ]
  }
 ],
 "metadata": {
  "interpreter": {
   "hash": "358dc852899df7f9d85956c30b11481afcceeef977d4870e13115e437e84e91a"
  },
  "kernelspec": {
   "display_name": "Python 3.9.7 ('base')",
   "language": "python",
   "name": "python3"
  },
  "language_info": {
   "codemirror_mode": {
    "name": "ipython",
    "version": 3
   },
   "file_extension": ".py",
   "mimetype": "text/x-python",
   "name": "python",
   "nbconvert_exporter": "python",
   "pygments_lexer": "ipython3",
   "version": "3.9.7"
  },
  "orig_nbformat": 4
 },
 "nbformat": 4,
 "nbformat_minor": 2
}
