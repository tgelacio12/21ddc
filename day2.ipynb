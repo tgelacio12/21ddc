{
 "cells": [
  {
   "cell_type": "code",
   "execution_count": null,
   "metadata": {},
   "outputs": [],
   "source": [
    "\"\"\"\n",
    "Day 2 Challenge\n",
    "\n",
    "Modify the name on Dot's passport so it can be recognized by passport control. \n",
    "\n",
    "name: Dot\n",
    "Required format: #DOT!\n",
    "\n",
    "Revision History\n",
    "    Tonnicca Gelacio, 2022-04-12 : Created\n",
    "    Tonnicca Gelacio, 2022-04-12 : Code Updated\n",
    "    Tonnicca Gelacio, 2022-05-02 : Edited comments and added output\n",
    "\"\"\""
   ]
  },
  {
   "cell_type": "code",
   "execution_count": 1,
   "metadata": {},
   "outputs": [
    {
     "name": "stdout",
     "output_type": "stream",
     "text": [
      "#DOT!\n"
     ]
    }
   ],
   "source": [
    "def main():\n",
    "\n",
    "    # declaration - original name\n",
    "    name = '  Dot  '\n",
    "\n",
    "    # apply required format to name\n",
    "    name = name.strip().upper()\n",
    "    name = \"#\" + name + \"!\"\n",
    "\n",
    "    # print results\n",
    "    print(name)\n",
    "\n",
    "if __name__ == \"__main__\":\n",
    "    main()"
   ]
  },
  {
   "cell_type": "code",
   "execution_count": null,
   "metadata": {},
   "outputs": [],
   "source": [
    "\"\"\"\n",
    "OUTPUT\n",
    "#DOT!\n",
    "\"\"\""
   ]
  }
 ],
 "metadata": {
  "interpreter": {
   "hash": "358dc852899df7f9d85956c30b11481afcceeef977d4870e13115e437e84e91a"
  },
  "kernelspec": {
   "display_name": "Python 3.9.7 ('base')",
   "language": "python",
   "name": "python3"
  },
  "language_info": {
   "codemirror_mode": {
    "name": "ipython",
    "version": 3
   },
   "file_extension": ".py",
   "mimetype": "text/x-python",
   "name": "python",
   "nbconvert_exporter": "python",
   "pygments_lexer": "ipython3",
   "version": "3.9.7"
  },
  "orig_nbformat": 4
 },
 "nbformat": 4,
 "nbformat_minor": 2
}
