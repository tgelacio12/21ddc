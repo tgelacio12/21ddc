{
 "cells": [
  {
   "cell_type": "code",
   "execution_count": null,
   "metadata": {},
   "outputs": [],
   "source": [
    "\"\"\"\n",
    "Day 4 Challenge\n",
    "\n",
    "Dot doesn't travel to Europe often, so they decide to take the most expensive option for each course as well as drink. \n",
    "Create a new dictionary called meals that will contain the names of the courses as the keys (starters, mains...), \n",
    "and the name of the food or drink item as the values.\n",
    "\n",
    "After assembling the dictionary appropriately, when Dot gives a 10% tip on this meal, how much will the tip come out to?\n",
    "\n",
    "\n",
    "Revision History\n",
    "  Tonnicca Gelacio, 2022-04-14 : Created\n",
    "  Tonnicca Gelacio, 2022-04-14 : Code Updated\n",
    "  Tonnicca Gelacio, 2022-04-15 : Code Updated\n",
    "  Tonnicca Gelacio, 2022-05-02 : Edited comments and added output\n",
    "\"\"\""
   ]
  },
  {
   "cell_type": "code",
   "execution_count": 1,
   "metadata": {},
   "outputs": [
    {
     "name": "stdout",
     "output_type": "stream",
     "text": [
      "Meals: {'starter': 'Salami Platter', 'main': 'Braised Beef Short Ribs', 'dessert': 'Chilled Chocolate Fondant', 'beer': 'Kong Ludwig Weissbier'}\n",
      "Total: 46.08\n",
      "Tax: 4.608\n"
     ]
    }
   ],
   "source": [
    "def main():\n",
    "\n",
    "    # Declarations - Menu Items\n",
    "    starters = {\n",
    "        \"Potato Pancakes\": 7.99,\n",
    "        \"Salami Platter\": 10.29,\n",
    "        \"Brezel\": 6.99,\n",
    "        \"Maultaschen\": 9.99,\n",
    "        \"Fried Potatoes\": 4.99\n",
    "    }\n",
    "\n",
    "    mains = {\n",
    "        \"Braised Beef Short Ribs\": 18.99,\n",
    "        \"Paprika Beef Goulash\": 15.5,\n",
    "        \"Jager Schnitzel\": 16.99,\n",
    "        \"House-mase Bratwurst\": 11.99,\n",
    "        \"Kasespatzle\": 14.99,\n",
    "        \"German Ravioli\": 12.79,\n",
    "        \"Curry Wurst\": 10.99\n",
    "    }\n",
    "\n",
    "    desserts = {\n",
    "        \"Chilled Chocolate Fondant\": 7.9,\n",
    "        \"Pepermint Crisp Tart\": 5.9,\n",
    "        \"Ginger Cobbler\": 6.9,\n",
    "        \n",
    "    }\n",
    "\n",
    "    beers = {\n",
    "        \"Stigel Radler\": 6.9,\n",
    "        \"Munich Lager\": 7.9,\n",
    "        \"Kong Ludwig Weissbier\": 8.9,\n",
    "        \"Warsteiner Punkel\": 7.5,\n",
    "    }\n",
    "\n",
    "    meals = {} #empty dict for results\n",
    "\n",
    "    # get highest value from starters then add to meals\n",
    "    starterKey = max(starters, key=starters.get)\n",
    "    starterPrice = starters[starterKey]\n",
    "    #print(f'{starterKey} - {starterPrice}') #test\n",
    "    meals['starter'] = starterKey\n",
    "\n",
    "    # get highest value from mains\n",
    "    mainKey = max(mains, key = mains.get)\n",
    "    mainPrice = mains[mainKey]\n",
    "    #print(f'{mainKey} - {mainPrice}') #test\n",
    "    meals['main'] = mainKey\n",
    "\n",
    "    # get highest value from desserts\n",
    "    dessertKey = max(desserts, key=desserts.get)\n",
    "    dessertPrice = desserts[dessertKey]\n",
    "    #print(f'{dessertKey} - {dessertPrice}') #test\n",
    "    meals['dessert'] = dessertKey\n",
    "\n",
    "    # get highest value from beers\n",
    "    beerKey = max(beers, key=beers.get)\n",
    "    beerPrice = beers[beerKey]\n",
    "    #print(f'{beerKey} - {beerPrice}') #test\n",
    "    meals['beer'] = beerKey\n",
    "\n",
    "    # calculate total and tax\n",
    "    total = starterPrice + mainPrice + dessertPrice + beerPrice\n",
    "    tax = total * 0.1\n",
    "\n",
    "    # print results\n",
    "    print(f'Meals: {meals}')\n",
    "    print(f'Total: {total}')\n",
    "    print(f'Tax: {tax}')\n",
    "\n",
    "if __name__ == \"__main__\":\n",
    "    main()"
   ]
  },
  {
   "cell_type": "code",
   "execution_count": null,
   "metadata": {},
   "outputs": [],
   "source": [
    "\"\"\"\n",
    "OUTPUT\n",
    "Meals: {'starter': 'Salami Platter', 'main': 'Braised Beef Short Ribs', \n",
    "'dessert': 'Chilled Chocolate Fondant', 'beer': 'Kong Ludwig Weissbier'}\n",
    "Total: 46.08\n",
    "Tax: 4.608\n",
    "\"\"\""
   ]
  }
 ],
 "metadata": {
  "interpreter": {
   "hash": "358dc852899df7f9d85956c30b11481afcceeef977d4870e13115e437e84e91a"
  },
  "kernelspec": {
   "display_name": "Python 3.9.7 ('base')",
   "language": "python",
   "name": "python3"
  },
  "language_info": {
   "codemirror_mode": {
    "name": "ipython",
    "version": 3
   },
   "file_extension": ".py",
   "mimetype": "text/x-python",
   "name": "python",
   "nbconvert_exporter": "python",
   "pygments_lexer": "ipython3",
   "version": "3.9.7"
  },
  "orig_nbformat": 4
 },
 "nbformat": 4,
 "nbformat_minor": 2
}
